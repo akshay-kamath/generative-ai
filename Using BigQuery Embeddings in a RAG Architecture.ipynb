{
  "cells": [
    {
      "cell_type": "code",
      "id": "wlSkwhhrpubyoOyZmYck3UVE",
      "metadata": {
        "tags": [],
        "id": "wlSkwhhrpubyoOyZmYck3UVE",
        "colab": {
          "base_uri": "https://localhost:8080/",
          "height": 827
        },
        "executionInfo": {
          "status": "ok",
          "timestamp": 1723313974654,
          "user_tz": -330,
          "elapsed": 12152,
          "user": {
            "displayName": "",
            "userId": ""
          }
        },
        "outputId": "07c86386-d93f-47e7-abc3-7b6f56ab28c3"
      },
      "source": [
        "!pip install --upgrade --user google-cloud-aiplatform google-cloud-bigquery"
      ],
      "execution_count": 1,
      "outputs": [
        {
          "output_type": "stream",
          "name": "stdout",
          "text": [
            "Requirement already satisfied: google-cloud-aiplatform in /usr/local/lib/python3.10/dist-packages (1.59.0)\n",
            "Collecting google-cloud-aiplatform\n",
            "  Downloading google_cloud_aiplatform-1.61.0-py2.py3-none-any.whl.metadata (31 kB)\n",
            "Requirement already satisfied: google-cloud-bigquery in /usr/local/lib/python3.10/dist-packages (3.25.0)\n",
            "Requirement already satisfied: google-api-core!=2.0.*,!=2.1.*,!=2.2.*,!=2.3.*,!=2.4.*,!=2.5.*,!=2.6.*,!=2.7.*,<3.0.0dev,>=1.34.1 in /usr/local/lib/python3.10/dist-packages (from google-api-core[grpc]!=2.0.*,!=2.1.*,!=2.2.*,!=2.3.*,!=2.4.*,!=2.5.*,!=2.6.*,!=2.7.*,<3.0.0dev,>=1.34.1->google-cloud-aiplatform) (2.19.1)\n",
            "Requirement already satisfied: google-auth<3.0.0dev,>=2.14.1 in /usr/local/lib/python3.10/dist-packages (from google-cloud-aiplatform) (2.27.0)\n",
            "Requirement already satisfied: proto-plus<2.0.0dev,>=1.22.3 in /usr/local/lib/python3.10/dist-packages (from google-cloud-aiplatform) (1.24.0)\n",
            "Requirement already satisfied: protobuf!=4.21.0,!=4.21.1,!=4.21.2,!=4.21.3,!=4.21.4,!=4.21.5,<6.0.0dev,>=3.20.2 in /usr/local/lib/python3.10/dist-packages (from google-cloud-aiplatform) (3.20.3)\n",
            "Requirement already satisfied: packaging>=14.3 in /usr/local/lib/python3.10/dist-packages (from google-cloud-aiplatform) (24.1)\n",
            "Requirement already satisfied: google-cloud-storage<3.0.0dev,>=1.32.0 in /usr/local/lib/python3.10/dist-packages (from google-cloud-aiplatform) (2.8.0)\n",
            "Requirement already satisfied: google-cloud-resource-manager<3.0.0dev,>=1.3.3 in /usr/local/lib/python3.10/dist-packages (from google-cloud-aiplatform) (1.12.4)\n",
            "Requirement already satisfied: shapely<3.0.0dev in /usr/local/lib/python3.10/dist-packages (from google-cloud-aiplatform) (2.0.5)\n",
            "Requirement already satisfied: pydantic<3 in /usr/local/lib/python3.10/dist-packages (from google-cloud-aiplatform) (1.10.17)\n",
            "Requirement already satisfied: docstring-parser<1 in /usr/local/lib/python3.10/dist-packages (from google-cloud-aiplatform) (0.16)\n",
            "Requirement already satisfied: google-cloud-core<3.0.0dev,>=1.6.0 in /usr/local/lib/python3.10/dist-packages (from google-cloud-bigquery) (2.4.1)\n",
            "Requirement already satisfied: google-resumable-media<3.0dev,>=0.6.0 in /usr/local/lib/python3.10/dist-packages (from google-cloud-bigquery) (2.7.1)\n",
            "Requirement already satisfied: python-dateutil<3.0dev,>=2.7.2 in /usr/local/lib/python3.10/dist-packages (from google-cloud-bigquery) (2.8.2)\n",
            "Requirement already satisfied: requests<3.0.0dev,>=2.21.0 in /usr/local/lib/python3.10/dist-packages (from google-cloud-bigquery) (2.31.0)\n",
            "Requirement already satisfied: googleapis-common-protos<2.0.dev0,>=1.56.2 in /usr/local/lib/python3.10/dist-packages (from google-api-core!=2.0.*,!=2.1.*,!=2.2.*,!=2.3.*,!=2.4.*,!=2.5.*,!=2.6.*,!=2.7.*,<3.0.0dev,>=1.34.1->google-api-core[grpc]!=2.0.*,!=2.1.*,!=2.2.*,!=2.3.*,!=2.4.*,!=2.5.*,!=2.6.*,!=2.7.*,<3.0.0dev,>=1.34.1->google-cloud-aiplatform) (1.63.2)\n",
            "Requirement already satisfied: grpcio<2.0dev,>=1.33.2 in /usr/local/lib/python3.10/dist-packages (from google-api-core[grpc]!=2.0.*,!=2.1.*,!=2.2.*,!=2.3.*,!=2.4.*,!=2.5.*,!=2.6.*,!=2.7.*,<3.0.0dev,>=1.34.1->google-cloud-aiplatform) (1.64.1)\n",
            "Requirement already satisfied: grpcio-status<2.0.dev0,>=1.33.2 in /usr/local/lib/python3.10/dist-packages (from google-api-core[grpc]!=2.0.*,!=2.1.*,!=2.2.*,!=2.3.*,!=2.4.*,!=2.5.*,!=2.6.*,!=2.7.*,<3.0.0dev,>=1.34.1->google-cloud-aiplatform) (1.48.2)\n",
            "Requirement already satisfied: cachetools<6.0,>=2.0.0 in /usr/local/lib/python3.10/dist-packages (from google-auth<3.0.0dev,>=2.14.1->google-cloud-aiplatform) (5.4.0)\n",
            "Requirement already satisfied: pyasn1-modules>=0.2.1 in /usr/local/lib/python3.10/dist-packages (from google-auth<3.0.0dev,>=2.14.1->google-cloud-aiplatform) (0.4.0)\n",
            "Requirement already satisfied: rsa<5,>=3.1.4 in /usr/local/lib/python3.10/dist-packages (from google-auth<3.0.0dev,>=2.14.1->google-cloud-aiplatform) (4.9)\n",
            "Requirement already satisfied: grpc-google-iam-v1<1.0.0dev,>=0.12.4 in /usr/local/lib/python3.10/dist-packages (from google-cloud-resource-manager<3.0.0dev,>=1.3.3->google-cloud-aiplatform) (0.13.1)\n",
            "Requirement already satisfied: google-crc32c<2.0dev,>=1.0 in /usr/local/lib/python3.10/dist-packages (from google-resumable-media<3.0dev,>=0.6.0->google-cloud-bigquery) (1.5.0)\n",
            "Requirement already satisfied: typing-extensions>=4.2.0 in /usr/local/lib/python3.10/dist-packages (from pydantic<3->google-cloud-aiplatform) (4.12.2)\n",
            "Requirement already satisfied: six>=1.5 in /usr/local/lib/python3.10/dist-packages (from python-dateutil<3.0dev,>=2.7.2->google-cloud-bigquery) (1.16.0)\n",
            "Requirement already satisfied: charset-normalizer<4,>=2 in /usr/local/lib/python3.10/dist-packages (from requests<3.0.0dev,>=2.21.0->google-cloud-bigquery) (3.3.2)\n",
            "Requirement already satisfied: idna<4,>=2.5 in /usr/local/lib/python3.10/dist-packages (from requests<3.0.0dev,>=2.21.0->google-cloud-bigquery) (3.7)\n",
            "Requirement already satisfied: urllib3<3,>=1.21.1 in /usr/local/lib/python3.10/dist-packages (from requests<3.0.0dev,>=2.21.0->google-cloud-bigquery) (2.0.7)\n",
            "Requirement already satisfied: certifi>=2017.4.17 in /usr/local/lib/python3.10/dist-packages (from requests<3.0.0dev,>=2.21.0->google-cloud-bigquery) (2024.7.4)\n",
            "Requirement already satisfied: numpy<3,>=1.14 in /usr/local/lib/python3.10/dist-packages (from shapely<3.0.0dev->google-cloud-aiplatform) (1.26.4)\n",
            "Requirement already satisfied: pyasn1<0.7.0,>=0.4.6 in /usr/local/lib/python3.10/dist-packages (from pyasn1-modules>=0.2.1->google-auth<3.0.0dev,>=2.14.1->google-cloud-aiplatform) (0.6.0)\n",
            "Downloading google_cloud_aiplatform-1.61.0-py2.py3-none-any.whl (5.1 MB)\n",
            "\u001b[2K   \u001b[90m━━━━━━━━━━━━━━━━━━━━━━━━━━━━━━━━━━━━━━━━\u001b[0m \u001b[32m5.1/5.1 MB\u001b[0m \u001b[31m19.4 MB/s\u001b[0m eta \u001b[36m0:00:00\u001b[0m\n",
            "\u001b[?25hInstalling collected packages: google-cloud-aiplatform\n",
            "\u001b[33m  WARNING: The script tb-gcp-uploader is installed in '/root/.local/bin' which is not on PATH.\n",
            "  Consider adding this directory to PATH or, if you prefer to suppress this warning, use --no-warn-script-location.\u001b[0m\u001b[33m\n",
            "\u001b[0mSuccessfully installed google-cloud-aiplatform-1.61.0\n"
          ]
        },
        {
          "output_type": "display_data",
          "data": {
            "application/vnd.colab-display-data+json": {
              "pip_warning": {
                "packages": [
                  "google"
                ]
              },
              "id": "14d5dd3371b44f71a0f230e9412ea8db"
            }
          },
          "metadata": {}
        }
      ]
    },
    {
      "cell_type": "code",
      "source": [
        "# Get project ID\n",
        "PROJECT_ID = ! gcloud config get-value project\n",
        "PROJECT_ID = PROJECT_ID[0]\n",
        "LOCATION = \"us-central1\" # @param {type:\"string\"}\n",
        "print(PROJECT_ID)"
      ],
      "metadata": {
        "colab": {
          "base_uri": "https://localhost:8080/"
        },
        "id": "DxFd0yyGhPMd",
        "executionInfo": {
          "status": "ok",
          "timestamp": 1723314016273,
          "user_tz": -330,
          "elapsed": 1990,
          "user": {
            "displayName": "",
            "userId": ""
          }
        },
        "outputId": "6e6c8f4c-e8ff-4c28-db9d-32aa3279c7fe"
      },
      "id": "DxFd0yyGhPMd",
      "execution_count": 1,
      "outputs": [
        {
          "output_type": "stream",
          "name": "stdout",
          "text": [
            "qwiklabs-gcp-01-9506b6c36386\n"
          ]
        }
      ]
    },
    {
      "cell_type": "code",
      "source": [
        "from google.cloud import aiplatform\n",
        "aiplatform.init(project=PROJECT_ID, location=LOCATION)\n",
        "\n",
        "print(\"Initialized\")"
      ],
      "metadata": {
        "colab": {
          "base_uri": "https://localhost:8080/"
        },
        "id": "MZ_sGRWFhRbc",
        "executionInfo": {
          "status": "ok",
          "timestamp": 1723314027984,
          "user_tz": -330,
          "elapsed": 5508,
          "user": {
            "displayName": "",
            "userId": ""
          }
        },
        "outputId": "05c3ba1a-aaeb-4d9e-d97d-6d73b525e03a"
      },
      "id": "MZ_sGRWFhRbc",
      "execution_count": 2,
      "outputs": [
        {
          "output_type": "stream",
          "name": "stdout",
          "text": [
            "Initialized\n"
          ]
        }
      ]
    },
    {
      "cell_type": "code",
      "source": [
        "import vertexai\n",
        "from vertexai.generative_models import GenerativeModel, Part\n",
        "\n",
        "def answer_question_gemini(prompt):\n",
        "  model = GenerativeModel(\"gemini-pro\")\n",
        "  response = model.generate_content(\n",
        "    prompt,\n",
        "    generation_config={\n",
        "        \"max_output_tokens\": 8192,\n",
        "        \"temperature\": 0.5,\n",
        "        \"top_p\": 0.5,\n",
        "        \"top_k\": 10,\n",
        "    },\n",
        "  stream=False,\n",
        "  )\n",
        "  try:\n",
        "    return response.text\n",
        "  except:\n",
        "    print(\"An Error Ocuured Cleaning the Data\")\n",
        "    return \"An Error Ocuured Cleaning the Data\""
      ],
      "metadata": {
        "id": "yGnSmir8hUZL",
        "executionInfo": {
          "status": "ok",
          "timestamp": 1723314034004,
          "user_tz": -330,
          "elapsed": 5,
          "user": {
            "displayName": "",
            "userId": ""
          }
        }
      },
      "id": "yGnSmir8hUZL",
      "execution_count": 3,
      "outputs": []
    },
    {
      "cell_type": "code",
      "source": [
        "def run_search(question):\n",
        "  from google.cloud import bigquery\n",
        "\n",
        "  client = bigquery.Client()\n",
        "\n",
        "  sql = \"\"\"\n",
        "      SELECT query.query, base.title, base.body\n",
        "      FROM VECTOR_SEARCH(\n",
        "      TABLE `bbc_news.bbc_news_with_embeddings_table`, 'text_embedding',\n",
        "      (\n",
        "      SELECT text_embedding, content AS query\n",
        "      FROM ML.GENERATE_TEXT_EMBEDDING(MODEL `bbc_news.embedding_model`,\n",
        "          (SELECT @question AS content))),\n",
        "      top_k => 5)\n",
        "      \"\"\"\n",
        "\n",
        "  job_config = bigquery.QueryJobConfig(\n",
        "    query_parameters=[\n",
        "        bigquery.ScalarQueryParameter(\"question\", \"STRING\", question),\n",
        "    ]\n",
        "  )\n",
        "\n",
        "  query_job = client.query(sql, job_config=job_config)\n",
        "\n",
        "  data = \"\"\n",
        "  for row in query_job:\n",
        "    data += row.body + \"\\n\"\n",
        "\n",
        "  return data"
      ],
      "metadata": {
        "id": "jesUwtLdhW5G",
        "executionInfo": {
          "status": "ok",
          "timestamp": 1723314043962,
          "user_tz": -330,
          "elapsed": 4,
          "user": {
            "displayName": "",
            "userId": ""
          }
        }
      },
      "id": "jesUwtLdhW5G",
      "execution_count": 4,
      "outputs": []
    },
    {
      "cell_type": "code",
      "source": [
        "def build_prompt(data, question):\n",
        "  prompt = \"\"\"\n",
        "    Instructions: Answer the question using the following Context.\n",
        "\n",
        "    Context: {0}\n",
        "\n",
        "    Question: {1}\n",
        "  \"\"\".format(data, question)\n",
        "  return prompt"
      ],
      "metadata": {
        "id": "J8kusIN4haek",
        "executionInfo": {
          "status": "ok",
          "timestamp": 1723314059511,
          "user_tz": -330,
          "elapsed": 679,
          "user": {
            "displayName": "",
            "userId": ""
          }
        }
      },
      "id": "J8kusIN4haek",
      "execution_count": 5,
      "outputs": []
    },
    {
      "cell_type": "code",
      "source": [
        "from IPython.core.display import display, HTML\n",
        "\n",
        "def answer_question(question):\n",
        "\n",
        "  data = run_search(question)\n",
        "  display(\"Retrieved Data:\")\n",
        "  display(data)\n",
        "  display(\" . . . \")\n",
        "  prompt = build_prompt(data, question)\n",
        "  answer_gemini = answer_question_gemini(prompt)\n",
        "\n",
        "  return answer_gemini"
      ],
      "metadata": {
        "id": "E6iZsHNEhc3K",
        "executionInfo": {
          "status": "ok",
          "timestamp": 1723314070096,
          "user_tz": -330,
          "elapsed": 3,
          "user": {
            "displayName": "",
            "userId": ""
          }
        }
      },
      "id": "E6iZsHNEhc3K",
      "execution_count": 6,
      "outputs": []
    },
    {
      "cell_type": "code",
      "source": [
        "QUESTION = \"Tell me about the US Economy\"\n",
        "\n",
        "answer_gemini = answer_question(QUESTION)\n",
        "display(\"User Question:\")\n",
        "display(QUESTION)\n",
        "display(\"--------------------------------\")\n",
        "display(\"Gemini Answer:\")\n",
        "display(answer_gemini)"
      ],
      "metadata": {
        "colab": {
          "base_uri": "https://localhost:8080/",
          "height": 409
        },
        "id": "X0XQ4Qz2heu0",
        "executionInfo": {
          "status": "ok",
          "timestamp": 1723314093820,
          "user_tz": -330,
          "elapsed": 6103,
          "user": {
            "displayName": "",
            "userId": ""
          }
        },
        "outputId": "39e61d8a-5f9b-4682-f2da-6a574b0fb19b"
      },
      "id": "X0XQ4Qz2heu0",
      "execution_count": 7,
      "outputs": [
        {
          "output_type": "display_data",
          "data": {
            "text/plain": [
              "'Retrieved Data:'"
            ],
            "application/vnd.google.colaboratory.intrinsic+json": {
              "type": "string"
            }
          },
          "metadata": {}
        },
        {
          "output_type": "display_data",
          "data": {
            "text/plain": [
              "'The US economy has grown more than expected, expanding at an annual rate of 3.8% in the last quarter of 2004.\\n\\nThe gross domestic product figure was ahead of the 3.1% the government estimated a month ago. The rise reflects stronger spending by businesses on capital equipment and a smaller-than-expected trade deficit. GDP is a measure of a country\\'s economic health, reflecting the value of the goods and services it produces.\\n\\nThe new GDP figure, announced by the Commerce Department on Friday, also topped the 3.5% growth rate that economists had forecast ahead of Friday\\'s announcement. Growth was at an annual rate of 4% in the third quarter of 2004 and for the year it came in at 4.4%, the best figure in five years. However, the positive economic climate may lead to a rise in interest rates, with many expecting US rates to rise on 22 March. In the January-to-March quarter, the economy is expected to grow at an annual rate of about 4%, economists forecast. In the final quarter of 2004, businesses increased spending on capital equipment and software by 18%, up from 17.5% in the third quarter. Consumer spending grew 4.2% in the final quarter, down from the third quarter\\'s 5.1%.\\n\\nThe US created fewer jobs than expected in December, but analysts said that the dip in hiring was not enough to derail the world\\'s biggest economy.\\n\\nAccording to Labor Department figures, 157,000 new jobs were added last month. That took 2004\\'s total to 2.2 million, the best showing in five years. Job creation was one of last year\\'s main concerns for the US economy. While worries still remain, the conditions are set for steady growth in 2005, analysts said. The unemployment rate stayed at 5.4% in December, and about 200,000 jobs will need to be created each month if that figure is to drop.\\n\\n\"It was a respectable report,\" said Michael Moran, analyst at Daiwa Securities.\\n\\n\"Payroll growth in December was a little lighter than the consensus forecast, but we had upward revisions to the prior two months and an increase in manufacturing employment.\" \"Manufacturing is a cyclical area of the economy and if it\\'s showing job growth, it\\'s a good indication that the economy is on a solid growth track.\" That means that the Federal Reserve is likely to continue its policy of raising interest rates. The Fed lifted borrowing costs five times last year to 2.25%, citing evidence the US economic recovery was becoming more robust.\\n\\nJob creation was one of last year\\'s main concerns for the US economy, and proved to be a main topic of debate in the US presidential election. While demand for workers is far from booming, the conditions are set for steady growth. \"Overall, compared to the previous year it looks great, it just keeps going stronger and stronger and I expect that to be the case\" in 2005, said Kurt Karl, economist at Swiss Re in New York. Meanwhile, economists cautioned against reading too much into data from the Federal Reserve showing an unexpected $8.7bn drop in consumer debt in November. A fall in consumer spending, which makes up about two-thirds of all US economic activity, could help limit the extent of any future interest rate rises. But economists said there could be a number of reasons for a fall in the borrowing, which include credit cards and personal loans, while noting that such figures can vary on a month-to-month basis.\\n\\nThe US created fewer jobs than expected in December, but analysts said that the dip in hiring was not enough to derail the world\\'s biggest economy.\\n\\nAccording to Labor Department figures, 157,000 new jobs were added last month. That took 2004\\'s total to 2.2 million, the best showing in five years. Job creation was one of last year\\'s main concerns for the US economy. While worries still remain, the conditions are set for steady growth in 2005, analysts said. The unemployment rate stayed at 5.4% in December, and about 200,000 jobs will need to be created each month if that figure is to drop.\\n\\n\"It was a respectable report,\" said Michael Moran, analyst at Daiwa Securities.\\n\\n\"Payroll growth in December was a little lighter than the consensus forecast, but we had upward revisions to the prior two months and an increase in manufacturing employment.\" \"Manufacturing is a cyclical area of the economy and if it\\'s showing job growth, it\\'s a good indication that the economy is on a solid growth track.\" That means that the Federal Reserve is likely to continue its policy of raising interest rates. The Fed lifted borrowing costs five times last year to 2.25%, citing evidence the US economic recovery was becoming more robust.\\n\\nJob creation was one of last year\\'s main concerns for the US economy, and proved to be a main topic of debate in the US presidential election. While demand for workers is far from booming, the conditions are set for steady growth. \"Overall, compared to the previous year it looks great, it just keeps going stronger and stronger and I expect that to be the case\" in 2005, said Kurt Karl, economist at Swiss Re in New York. Meanwhile, economists cautioned against reading too much into data from the Federal Reserve showing an unexpected $8.7bn drop in consumer debt in November. A fall in consumer spending, which makes up about two-thirds of all US economic activity, could help limit the extent of any future interest rate rises. But economists said there could be a number of reasons for a fall in the borrowing, which include credit cards and personal loans, while noting that such figures can vary on a month-to-month basis.\\n\\nConsumers\\' confidence in the state of the US economy is at its highest for five months and they are optimistic about 2005, an influential survey says.\\n\\nThe feel-good factor among US consumers rose in December for the first time since July according to new data. The Conference Board survey of 5,000 households pointed to renewed optimism about job creation and economic growth. US retailers have reported strong sales over the past 10 days after a slow start to the crucial festive season.\\n\\nAccording to figures also released on Tuesday, sales in shopping malls in the week to 25 December were 4.3% higher than in 2003 following a last minute rush. Wal-Mart, the largest US retailer, has said its December sales are expected to be better than previously forecast because of strong post-Christmas sales.\\n\\nIt is expecting annual sales growth of between 1% and 3% for the month. Consumer confidence figures are considered a key economic indicator because consumer spending accounts for about two thirds of all economic activity in the United States. \"The continuing economic expansion, combined with job growth, has consumers ending this year on a high note,\" said Lynn Franco, director of the Conference Board\\'s consumer research centre. \"And consumers\\' outlook suggests that the economy will continue to expand in the first half of next year.\" The overall US economy has performed strongly in recent months, prompting the Federal Reserve to increase interest rates five times since June.\\n\\nThe US dollar\\'s slide against the euro and yen has halted after US Treasury Secretary John Snow said a strong dollar was \"in America\\'s interest\".\\n\\nBut analysts said any gains are likely to be short-lived as problems with the US economy were still significant. They also pointed out that positive comments apart, President George W Bush\\'s administration had done little to stop the dollar\\'s slide. A weak dollar helps boost exports and narrow the current account deficit. The dollar was trading at $1.2944 against the euro at 2100GMT, still close to the $1.3006 record level set on 10 November. Against the Japanese yen, it was trading at 105.28 yen, after hitting a seven-month low of 105.17 earlier in the day.\\n\\nPolicy makers in Europe have called the dollar\\'s slide \"brutal\" and have blamed the strength of the euro for dampening economic growth. However, it is unclear whether ministers would issue a declaration aimed at curbing the euro\\'s rise at a monthly meeting of Eurozone ministers late on Monday. Higher growth in Europe is regarded by US officials as a way the huge US current account deficit - that has been weighing on the dollar - could be reduced. Mr Snow who is currently in Dublin at the start of a four-nation EU visit, has applauded Ireland\\'s introduction of lower taxes and deregulation which have helped boost growth. \"The eurozone is growing below its potential. When a major part of the global economy is below potential there are negative consequences... for the citizens of those economies... and for their trading partners,\" he said. Mr Snow\\'s comments may have helped shore up the dollar on Monday, but he was careful to qualify his statement.\\n\\n\"Our basic policy, of course, is to let open, competitive markets set the values,\" he explained. \"Markets are driven by fundamentals and towards fundamentals.\" US officials have also said that other economies need to grow, so the US is not the main global growth engine. Economists say that the fundamentals, or key indicators, of the US economy are looking far from rosy. Domestic consumer demand is cooling, and heavy spending by President Bush has pushed the budget deficit to a record $427bn (£230bn). The current account deficit, meanwhile, hit a record $166bn in the second quarter of 2004. For many analysts, a weaker dollar is here to stay. \"No end is in sight,\" said Carsten Fritsch, a strategist at Commerzbank . \"It is only a matter of time until the euro reaches $1.30.\" Some analysts maintain the US is secretly happy with a lower dollar which helps makes its exports cheaper in Europe, thus boosting its economy.\\n\\n'"
            ],
            "application/vnd.google.colaboratory.intrinsic+json": {
              "type": "string"
            }
          },
          "metadata": {}
        },
        {
          "output_type": "display_data",
          "data": {
            "text/plain": [
              "' . . . '"
            ],
            "application/vnd.google.colaboratory.intrinsic+json": {
              "type": "string"
            }
          },
          "metadata": {}
        },
        {
          "output_type": "display_data",
          "data": {
            "text/plain": [
              "'User Question:'"
            ],
            "application/vnd.google.colaboratory.intrinsic+json": {
              "type": "string"
            }
          },
          "metadata": {}
        },
        {
          "output_type": "display_data",
          "data": {
            "text/plain": [
              "'Tell me about the US Economy'"
            ],
            "application/vnd.google.colaboratory.intrinsic+json": {
              "type": "string"
            }
          },
          "metadata": {}
        },
        {
          "output_type": "display_data",
          "data": {
            "text/plain": [
              "'--------------------------------'"
            ],
            "application/vnd.google.colaboratory.intrinsic+json": {
              "type": "string"
            }
          },
          "metadata": {}
        },
        {
          "output_type": "display_data",
          "data": {
            "text/plain": [
              "'Gemini Answer:'"
            ],
            "application/vnd.google.colaboratory.intrinsic+json": {
              "type": "string"
            }
          },
          "metadata": {}
        },
        {
          "output_type": "display_data",
          "data": {
            "text/plain": [
              "'## The US Economy in 2004: A Strong Year with Concerns for the Future\\n\\nThe US economy grew at a robust pace in 2004, exceeding expectations with a 3.8% annual rate in the last quarter. This growth was driven by several factors, including:\\n\\n* **Stronger spending by businesses on capital equipment:** Businesses invested heavily in new equipment and software, contributing to the overall economic expansion.\\n* **Smaller-than-expected trade deficit:** The trade deficit, which represents the difference between imports and exports, was lower than anticipated, boosting the economy.\\n* **Increased consumer spending:** While consumer spending growth slowed slightly in the final quarter of 2004, it remained a significant contributor to economic growth throughout the year.\\n\\nHowever, despite the positive economic performance, several concerns remained:\\n\\n* **Rising interest rates:** The strong economy led to expectations of further interest rate increases by the Federal Reserve, which could potentially dampen economic growth.\\n* **Job creation:** While job creation improved in 2004, it remained a concern for many analysts. The economy needed to create approximately 200,000 jobs per month to reduce the unemployment rate.\\n* **Consumer debt:** A sudden drop in consumer debt in November raised concerns about a potential slowdown in consumer spending, which could impact economic growth.\\n* **Trade deficit:** While the trade deficit was smaller than expected in 2004, it remained a significant concern for the long-term health of the US economy.\\n* **Weak dollar:** The US dollar continued to weaken against the euro and yen, raising concerns about its impact on exports and the overall economy.\\n\\nOverall, the US economy performed well in 2004. However, several challenges remained, and the future trajectory of the economy was uncertain. \\n'"
            ],
            "application/vnd.google.colaboratory.intrinsic+json": {
              "type": "string"
            }
          },
          "metadata": {}
        }
      ]
    }
  ],
  "metadata": {
    "kernelspec": {
      "display_name": "Python 3",
      "language": "python",
      "name": "python3"
    },
    "language_info": {
      "codemirror_mode": {
        "name": "ipython",
        "version": 3
      },
      "file_extension": ".py",
      "mimetype": "text/x-python",
      "name": "python",
      "nbconvert_exporter": "python",
      "pygments_lexer": "ipython3",
      "version": "3.10.10"
    },
    "colab": {
      "provenance": [],
      "name": "student-01-67db73f17dbd (Aug 10, 2024, 11:47:16 PM)"
    }
  },
  "nbformat": 4,
  "nbformat_minor": 5
}